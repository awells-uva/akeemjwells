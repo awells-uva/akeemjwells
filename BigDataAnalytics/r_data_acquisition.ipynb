{
 "cells": [
  {
   "cell_type": "markdown",
   "metadata": {},
   "source": [
    "# Data Acquisition for COVID-19 Weather Study\n",
    "\n",
    "## DS 5559 - Big Data Analytics - Final Project\n",
    "\n",
    "### Authors\n",
    "- Aubrey Brockmiller (alb3cb)\n",
    "- Ian Kloo (ipk8gh)\n",
    "- Shawn Michanco (sbm5rg)\n",
    "- Akeem Wells (ajw3rg)"
   ]
  },
  {
   "cell_type": "markdown",
   "metadata": {},
   "source": [
    "Data acquisition for this project required accessing external data from various sources, cleaning it, and merging.  These tasks are better done outside of Pyspark.  When dealing with weather data specifically, we found an extremely useful and well supported package that only existed in R, `GSODR`, so we used R for the bulk of the data acquisition for this project.\n",
    "\n",
    "The end result of this notebook is a CSV file that is the source for the work done in `final_project_code.ipynb`.  We did very limited data cleaning here and left most of that effort for the Pyspark code in the other notebook.  Any cleaning steps here were done to ensure we could merge files (e.g., making sure the county-level FIPS codes were correct).\n",
    "\n",
    "The basic idea is to get everything to the county and day level - i.e., have one row for each county and each day we want to study."
   ]
  },
  {
   "cell_type": "markdown",
   "metadata": {},
   "source": [
    "## Reading in Libraries\n",
    "\n",
    "Here we leverage `data.table` for fast table processing, `rvest` for scraping HTML data, `jsonlite` for processing JSON data, and `GSODR` for accessing the NOAA historical weather data."
   ]
  },
  {
   "cell_type": "code",
   "execution_count": 13,
   "metadata": {},
   "outputs": [],
   "source": [
    "library(GSODR)\n",
    "library(data.table)\n",
    "library(rvest)\n",
    "library(jsonlite)"
   ]
  },
  {
   "cell_type": "markdown",
   "metadata": {},
   "source": [
    "## Acquiring Weather Data"
   ]
  },
  {
   "cell_type": "markdown",
   "metadata": {},
   "source": [
    "The weather data we want to use is reported at the day level, but not at the county level.  NOAA reports things at the station level where counties can contain any number of stations.  For the purposes of this study, we will start with the county centroids in lat/lon, then look for nearby stations.  We'll average the data from these stations to end up with a decent sense for the data at the county level.\n",
    "\n",
    "We know that some large counties (e.g., the ones in Alaska) will have significant weather variation at the different stations, but this is something we will have to accept when working at the county level.  If COVID data existed at finer geospatial granularity, it would make sense to use it - but with what we currently have available, this appears to be the best option.\n",
    "\n",
    "The first task is to get the county centroids.  We'll scrape wikipedia for this:"
   ]
  },
  {
   "cell_type": "code",
   "execution_count": 2,
   "metadata": {},
   "outputs": [
    {
     "data": {
      "text/html": [
       "<table>\n",
       "<caption>A data.table: 6 × 14</caption>\n",
       "<thead>\n",
       "\t<tr><th scope=col>Sort [1]</th><th scope=col>State</th><th scope=col>FIPS</th><th scope=col>County [2]</th><th scope=col>County Seat(s) [3]</th><th scope=col>Population(2010)</th><th scope=col>Land Areakm²</th><th scope=col>Land Areami²</th><th scope=col>Water Areakm²</th><th scope=col>Water Areami²</th><th scope=col>Total Areakm²</th><th scope=col>Total Areami²</th><th scope=col>Latitude</th><th scope=col>Longitude</th></tr>\n",
       "\t<tr><th scope=col>&lt;int&gt;</th><th scope=col>&lt;chr&gt;</th><th scope=col>&lt;int&gt;</th><th scope=col>&lt;chr&gt;</th><th scope=col>&lt;chr&gt;</th><th scope=col>&lt;chr&gt;</th><th scope=col>&lt;chr&gt;</th><th scope=col>&lt;chr&gt;</th><th scope=col>&lt;chr&gt;</th><th scope=col>&lt;chr&gt;</th><th scope=col>&lt;chr&gt;</th><th scope=col>&lt;chr&gt;</th><th scope=col>&lt;chr&gt;</th><th scope=col>&lt;chr&gt;</th></tr>\n",
       "</thead>\n",
       "<tbody>\n",
       "\t<tr><td>1</td><td>AL</td><td>1001</td><td>Autauga</td><td>Prattville   </td><td>54,571 </td><td>1,539.582</td><td>594.436  </td><td>25.776   </td><td>9.952  </td><td>1,565.358</td><td>604.388  </td><td>+32.536382°</td><td>–86.644490°</td></tr>\n",
       "\t<tr><td>2</td><td>AL</td><td>1003</td><td>Baldwin</td><td>Bay Minette  </td><td>182,265</td><td>4,117.522</td><td>1,589.784</td><td>1,133.190</td><td>437.527</td><td>5,250.712</td><td>2,027.311</td><td>+30.659218°</td><td>–87.746067°</td></tr>\n",
       "\t<tr><td>3</td><td>AL</td><td>1005</td><td>Barbour</td><td>Clayton      </td><td>27,457 </td><td>2,291.819</td><td>884.876  </td><td>50.865   </td><td>19.639 </td><td>2,342.684</td><td>904.515  </td><td>+31.870670°</td><td>–85.405456°</td></tr>\n",
       "\t<tr><td>4</td><td>AL</td><td>1007</td><td>Bibb   </td><td>Centreville  </td><td>22,915 </td><td>1,612.481</td><td>622.582  </td><td>9.289    </td><td>3.587  </td><td>1,621.770</td><td>626.169  </td><td>+33.015893°</td><td>–87.127148°</td></tr>\n",
       "\t<tr><td>5</td><td>AL</td><td>1009</td><td>Blount </td><td>Oneonta      </td><td>57,322 </td><td>1,669.962</td><td>644.776  </td><td>15.157   </td><td>5.852  </td><td>1,685.119</td><td>650.628  </td><td>+33.977448°</td><td>–86.567246°</td></tr>\n",
       "\t<tr><td>6</td><td>AL</td><td>1011</td><td>Bullock</td><td>Union Springs</td><td>10,914 </td><td>1,613.057</td><td>622.805  </td><td>6.057    </td><td>2.338  </td><td>1,619.113</td><td>625.143  </td><td>+32.101759°</td><td>–85.717261°</td></tr>\n",
       "</tbody>\n",
       "</table>\n"
      ],
      "text/latex": [
       "A data.table: 6 × 14\n",
       "\\begin{tabular}{llllllllllllll}\n",
       " Sort {[}1{]} & State & FIPS & County {[}2{]} & County Seat(s) {[}3{]} & Population(2010) & Land Areakm² & Land Areami² & Water Areakm² & Water Areami² & Total Areakm² & Total Areami² & Latitude & Longitude\\\\\n",
       " <int> & <chr> & <int> & <chr> & <chr> & <chr> & <chr> & <chr> & <chr> & <chr> & <chr> & <chr> & <chr> & <chr>\\\\\n",
       "\\hline\n",
       "\t 1 & AL & 1001 & Autauga & Prattville    & 54,571  & 1,539.582 & 594.436   & 25.776    & 9.952   & 1,565.358 & 604.388   & +32.536382° & –86.644490°\\\\\n",
       "\t 2 & AL & 1003 & Baldwin & Bay Minette   & 182,265 & 4,117.522 & 1,589.784 & 1,133.190 & 437.527 & 5,250.712 & 2,027.311 & +30.659218° & –87.746067°\\\\\n",
       "\t 3 & AL & 1005 & Barbour & Clayton       & 27,457  & 2,291.819 & 884.876   & 50.865    & 19.639  & 2,342.684 & 904.515   & +31.870670° & –85.405456°\\\\\n",
       "\t 4 & AL & 1007 & Bibb    & Centreville   & 22,915  & 1,612.481 & 622.582   & 9.289     & 3.587   & 1,621.770 & 626.169   & +33.015893° & –87.127148°\\\\\n",
       "\t 5 & AL & 1009 & Blount  & Oneonta       & 57,322  & 1,669.962 & 644.776   & 15.157    & 5.852   & 1,685.119 & 650.628   & +33.977448° & –86.567246°\\\\\n",
       "\t 6 & AL & 1011 & Bullock & Union Springs & 10,914  & 1,613.057 & 622.805   & 6.057     & 2.338   & 1,619.113 & 625.143   & +32.101759° & –85.717261°\\\\\n",
       "\\end{tabular}\n"
      ],
      "text/markdown": [
       "\n",
       "A data.table: 6 × 14\n",
       "\n",
       "| Sort [1] &lt;int&gt; | State &lt;chr&gt; | FIPS &lt;int&gt; | County [2] &lt;chr&gt; | County Seat(s) [3] &lt;chr&gt; | Population(2010) &lt;chr&gt; | Land Areakm² &lt;chr&gt; | Land Areami² &lt;chr&gt; | Water Areakm² &lt;chr&gt; | Water Areami² &lt;chr&gt; | Total Areakm² &lt;chr&gt; | Total Areami² &lt;chr&gt; | Latitude &lt;chr&gt; | Longitude &lt;chr&gt; |\n",
       "|---|---|---|---|---|---|---|---|---|---|---|---|---|---|\n",
       "| 1 | AL | 1001 | Autauga | Prattville    | 54,571  | 1,539.582 | 594.436   | 25.776    | 9.952   | 1,565.358 | 604.388   | +32.536382° | –86.644490° |\n",
       "| 2 | AL | 1003 | Baldwin | Bay Minette   | 182,265 | 4,117.522 | 1,589.784 | 1,133.190 | 437.527 | 5,250.712 | 2,027.311 | +30.659218° | –87.746067° |\n",
       "| 3 | AL | 1005 | Barbour | Clayton       | 27,457  | 2,291.819 | 884.876   | 50.865    | 19.639  | 2,342.684 | 904.515   | +31.870670° | –85.405456° |\n",
       "| 4 | AL | 1007 | Bibb    | Centreville   | 22,915  | 1,612.481 | 622.582   | 9.289     | 3.587   | 1,621.770 | 626.169   | +33.015893° | –87.127148° |\n",
       "| 5 | AL | 1009 | Blount  | Oneonta       | 57,322  | 1,669.962 | 644.776   | 15.157    | 5.852   | 1,685.119 | 650.628   | +33.977448° | –86.567246° |\n",
       "| 6 | AL | 1011 | Bullock | Union Springs | 10,914  | 1,613.057 | 622.805   | 6.057     | 2.338   | 1,619.113 | 625.143   | +32.101759° | –85.717261° |\n",
       "\n"
      ],
      "text/plain": [
       "  Sort [1] State FIPS County [2] County Seat(s) [3] Population(2010)\n",
       "1 1        AL    1001 Autauga    Prattville         54,571          \n",
       "2 2        AL    1003 Baldwin    Bay Minette        182,265         \n",
       "3 3        AL    1005 Barbour    Clayton            27,457          \n",
       "4 4        AL    1007 Bibb       Centreville        22,915          \n",
       "5 5        AL    1009 Blount     Oneonta            57,322          \n",
       "6 6        AL    1011 Bullock    Union Springs      10,914          \n",
       "  Land Areakm² Land Areami² Water Areakm² Water Areami² Total Areakm²\n",
       "1 1,539.582    594.436      25.776        9.952         1,565.358    \n",
       "2 4,117.522    1,589.784    1,133.190     437.527       5,250.712    \n",
       "3 2,291.819    884.876      50.865        19.639        2,342.684    \n",
       "4 1,612.481    622.582      9.289         3.587         1,621.770    \n",
       "5 1,669.962    644.776      15.157        5.852         1,685.119    \n",
       "6 1,613.057    622.805      6.057         2.338         1,619.113    \n",
       "  Total Areami² Latitude    Longitude  \n",
       "1 604.388       +32.536382° –86.644490°\n",
       "2 2,027.311     +30.659218° –87.746067°\n",
       "3 904.515       +31.870670° –85.405456°\n",
       "4 626.169       +33.015893° –87.127148°\n",
       "5 650.628       +33.977448° –86.567246°\n",
       "6 625.143       +32.101759° –85.717261°"
      ]
     },
     "metadata": {},
     "output_type": "display_data"
    }
   ],
   "source": [
    "county_loc <- read_html('https://en.wikipedia.org/wiki/User:Michael_J/County_table') %>%\n",
    "  html_node('.wikitable') %>%\n",
    "  html_table() %>%\n",
    "  data.table()\n",
    "\n",
    "head(county_loc)"
   ]
  },
  {
   "cell_type": "markdown",
   "metadata": {},
   "source": [
    "The data comes in fairly clean, but we need to process the FIPS codes to account for leading zeros that are dropped on ingest.  This is a common problem with databases storing FIPS codes - they look like numbers but are actually ID's, some with leading zeros.  Here we also process the `Latitude` and `Longitude` columns to get to floats."
   ]
  },
  {
   "cell_type": "code",
   "execution_count": 3,
   "metadata": {},
   "outputs": [
    {
     "data": {
      "text/html": [
       "<table>\n",
       "<caption>A data.table: 6 × 14</caption>\n",
       "<thead>\n",
       "\t<tr><th scope=col>Sort [1]</th><th scope=col>State</th><th scope=col>FIPS</th><th scope=col>County [2]</th><th scope=col>County Seat(s) [3]</th><th scope=col>Population(2010)</th><th scope=col>Land Areakm²</th><th scope=col>Land Areami²</th><th scope=col>Water Areakm²</th><th scope=col>Water Areami²</th><th scope=col>Total Areakm²</th><th scope=col>Total Areami²</th><th scope=col>Latitude</th><th scope=col>Longitude</th></tr>\n",
       "\t<tr><th scope=col>&lt;int&gt;</th><th scope=col>&lt;chr&gt;</th><th scope=col>&lt;chr&gt;</th><th scope=col>&lt;chr&gt;</th><th scope=col>&lt;chr&gt;</th><th scope=col>&lt;chr&gt;</th><th scope=col>&lt;chr&gt;</th><th scope=col>&lt;chr&gt;</th><th scope=col>&lt;chr&gt;</th><th scope=col>&lt;chr&gt;</th><th scope=col>&lt;chr&gt;</th><th scope=col>&lt;chr&gt;</th><th scope=col>&lt;dbl&gt;</th><th scope=col>&lt;dbl&gt;</th></tr>\n",
       "</thead>\n",
       "<tbody>\n",
       "\t<tr><td>1</td><td>AL</td><td>01001</td><td>Autauga</td><td>Prattville   </td><td>54,571 </td><td>1,539.582</td><td>594.436  </td><td>25.776   </td><td>9.952  </td><td>1,565.358</td><td>604.388  </td><td>32.536382</td><td>-86.644490</td></tr>\n",
       "\t<tr><td>2</td><td>AL</td><td>01003</td><td>Baldwin</td><td>Bay Minette  </td><td>182,265</td><td>4,117.522</td><td>1,589.784</td><td>1,133.190</td><td>437.527</td><td>5,250.712</td><td>2,027.311</td><td>30.659218</td><td>-87.746067</td></tr>\n",
       "\t<tr><td>3</td><td>AL</td><td>01005</td><td>Barbour</td><td>Clayton      </td><td>27,457 </td><td>2,291.819</td><td>884.876  </td><td>50.865   </td><td>19.639 </td><td>2,342.684</td><td>904.515  </td><td>31.870670</td><td>-85.405456</td></tr>\n",
       "\t<tr><td>4</td><td>AL</td><td>01007</td><td>Bibb   </td><td>Centreville  </td><td>22,915 </td><td>1,612.481</td><td>622.582  </td><td>9.289    </td><td>3.587  </td><td>1,621.770</td><td>626.169  </td><td>33.015893</td><td>-87.127148</td></tr>\n",
       "\t<tr><td>5</td><td>AL</td><td>01009</td><td>Blount </td><td>Oneonta      </td><td>57,322 </td><td>1,669.962</td><td>644.776  </td><td>15.157   </td><td>5.852  </td><td>1,685.119</td><td>650.628  </td><td>33.977448</td><td>-86.567246</td></tr>\n",
       "\t<tr><td>6</td><td>AL</td><td>01011</td><td>Bullock</td><td>Union Springs</td><td>10,914 </td><td>1,613.057</td><td>622.805  </td><td>6.057    </td><td>2.338  </td><td>1,619.113</td><td>625.143  </td><td>32.101759</td><td>-85.717261</td></tr>\n",
       "</tbody>\n",
       "</table>\n"
      ],
      "text/latex": [
       "A data.table: 6 × 14\n",
       "\\begin{tabular}{llllllllllllll}\n",
       " Sort {[}1{]} & State & FIPS & County {[}2{]} & County Seat(s) {[}3{]} & Population(2010) & Land Areakm² & Land Areami² & Water Areakm² & Water Areami² & Total Areakm² & Total Areami² & Latitude & Longitude\\\\\n",
       " <int> & <chr> & <chr> & <chr> & <chr> & <chr> & <chr> & <chr> & <chr> & <chr> & <chr> & <chr> & <dbl> & <dbl>\\\\\n",
       "\\hline\n",
       "\t 1 & AL & 01001 & Autauga & Prattville    & 54,571  & 1,539.582 & 594.436   & 25.776    & 9.952   & 1,565.358 & 604.388   & 32.536382 & -86.644490\\\\\n",
       "\t 2 & AL & 01003 & Baldwin & Bay Minette   & 182,265 & 4,117.522 & 1,589.784 & 1,133.190 & 437.527 & 5,250.712 & 2,027.311 & 30.659218 & -87.746067\\\\\n",
       "\t 3 & AL & 01005 & Barbour & Clayton       & 27,457  & 2,291.819 & 884.876   & 50.865    & 19.639  & 2,342.684 & 904.515   & 31.870670 & -85.405456\\\\\n",
       "\t 4 & AL & 01007 & Bibb    & Centreville   & 22,915  & 1,612.481 & 622.582   & 9.289     & 3.587   & 1,621.770 & 626.169   & 33.015893 & -87.127148\\\\\n",
       "\t 5 & AL & 01009 & Blount  & Oneonta       & 57,322  & 1,669.962 & 644.776   & 15.157    & 5.852   & 1,685.119 & 650.628   & 33.977448 & -86.567246\\\\\n",
       "\t 6 & AL & 01011 & Bullock & Union Springs & 10,914  & 1,613.057 & 622.805   & 6.057     & 2.338   & 1,619.113 & 625.143   & 32.101759 & -85.717261\\\\\n",
       "\\end{tabular}\n"
      ],
      "text/markdown": [
       "\n",
       "A data.table: 6 × 14\n",
       "\n",
       "| Sort [1] &lt;int&gt; | State &lt;chr&gt; | FIPS &lt;chr&gt; | County [2] &lt;chr&gt; | County Seat(s) [3] &lt;chr&gt; | Population(2010) &lt;chr&gt; | Land Areakm² &lt;chr&gt; | Land Areami² &lt;chr&gt; | Water Areakm² &lt;chr&gt; | Water Areami² &lt;chr&gt; | Total Areakm² &lt;chr&gt; | Total Areami² &lt;chr&gt; | Latitude &lt;dbl&gt; | Longitude &lt;dbl&gt; |\n",
       "|---|---|---|---|---|---|---|---|---|---|---|---|---|---|\n",
       "| 1 | AL | 01001 | Autauga | Prattville    | 54,571  | 1,539.582 | 594.436   | 25.776    | 9.952   | 1,565.358 | 604.388   | 32.536382 | -86.644490 |\n",
       "| 2 | AL | 01003 | Baldwin | Bay Minette   | 182,265 | 4,117.522 | 1,589.784 | 1,133.190 | 437.527 | 5,250.712 | 2,027.311 | 30.659218 | -87.746067 |\n",
       "| 3 | AL | 01005 | Barbour | Clayton       | 27,457  | 2,291.819 | 884.876   | 50.865    | 19.639  | 2,342.684 | 904.515   | 31.870670 | -85.405456 |\n",
       "| 4 | AL | 01007 | Bibb    | Centreville   | 22,915  | 1,612.481 | 622.582   | 9.289     | 3.587   | 1,621.770 | 626.169   | 33.015893 | -87.127148 |\n",
       "| 5 | AL | 01009 | Blount  | Oneonta       | 57,322  | 1,669.962 | 644.776   | 15.157    | 5.852   | 1,685.119 | 650.628   | 33.977448 | -86.567246 |\n",
       "| 6 | AL | 01011 | Bullock | Union Springs | 10,914  | 1,613.057 | 622.805   | 6.057     | 2.338   | 1,619.113 | 625.143   | 32.101759 | -85.717261 |\n",
       "\n"
      ],
      "text/plain": [
       "  Sort [1] State FIPS  County [2] County Seat(s) [3] Population(2010)\n",
       "1 1        AL    01001 Autauga    Prattville         54,571          \n",
       "2 2        AL    01003 Baldwin    Bay Minette        182,265         \n",
       "3 3        AL    01005 Barbour    Clayton            27,457          \n",
       "4 4        AL    01007 Bibb       Centreville        22,915          \n",
       "5 5        AL    01009 Blount     Oneonta            57,322          \n",
       "6 6        AL    01011 Bullock    Union Springs      10,914          \n",
       "  Land Areakm² Land Areami² Water Areakm² Water Areami² Total Areakm²\n",
       "1 1,539.582    594.436      25.776        9.952         1,565.358    \n",
       "2 4,117.522    1,589.784    1,133.190     437.527       5,250.712    \n",
       "3 2,291.819    884.876      50.865        19.639        2,342.684    \n",
       "4 1,612.481    622.582      9.289         3.587         1,621.770    \n",
       "5 1,669.962    644.776      15.157        5.852         1,685.119    \n",
       "6 1,613.057    622.805      6.057         2.338         1,619.113    \n",
       "  Total Areami² Latitude  Longitude \n",
       "1 604.388       32.536382 -86.644490\n",
       "2 2,027.311     30.659218 -87.746067\n",
       "3 904.515       31.870670 -85.405456\n",
       "4 626.169       33.015893 -87.127148\n",
       "5 650.628       33.977448 -86.567246\n",
       "6 625.143       32.101759 -85.717261"
      ]
     },
     "metadata": {},
     "output_type": "display_data"
    }
   ],
   "source": [
    "options(digits=10)\n",
    "for(i in 1:nrow(county_loc)){\n",
    "    \n",
    "  #fix fips code - if not enough characters, add leading 0\n",
    "  if(nchar(county_loc$FIPS[i]) != 5){\n",
    "    county_loc$FIPS[i] <- paste0('0',county_loc$FIPS[i])\n",
    "  } else{\n",
    "    county_loc$FIPS[i] <- as.character(county_loc$FIPS[i])\n",
    "  }\n",
    "    \n",
    "  #fix lat lon stuff\n",
    "  county_loc$Latitude[i] <- as.numeric(substr(county_loc$Latitude[i], 2, nchar(county_loc$Latitude[i]) - 1))\n",
    "  county_loc$Longitude[i] <- -1*as.numeric(substr(county_loc$Longitude[i], 2, nchar(county_loc$Longitude[i]) - 1))\n",
    "}\n",
    "county_loc$Latitude <- as.numeric(county_loc$Latitude)\n",
    "county_loc$Longitude <- as.numeric(county_loc$Longitude)\n",
    "\n",
    "head(county_loc)"
   ]
  },
  {
   "cell_type": "markdown",
   "metadata": {},
   "source": [
    "With the data fairly clean, we can now use `nearest_stations()` provided by the `GSODR` package to get nearby weather stations.  The below outer for-loop runs once for each county.  The interior while-loop grabs the weather stations within 50 miles of the county centroid.  We then attempt to extract data from these nearby stations and store the data in a table.\n",
    "\n",
    "In some cases there are no weather stations within 50 miles of a county centroid and/or the stations that do exist don't contain some of the records we are interested in (e.g., some stations don't record wind data).  If this happens, the while-loop adds 50 miles to the search radius and continues until we get valid data for that county.  \n",
    "\n",
    "The end result is a table with a single row for each county/day combination."
   ]
  },
  {
   "cell_type": "code",
   "execution_count": null,
   "metadata": {},
   "outputs": [],
   "source": [
    "pb <- txtProgressBar(max = nrow(county_loc), style = 3)\n",
    "out <- list()\n",
    "for(i in 1:nrow(county_loc)){\n",
    "  done <- 0\n",
    "  distance <- 50\n",
    "  while(done == 0){\n",
    "    #get list of stations within search radius of county centroid\n",
    "    stations <- nearest_stations(LAT = county_loc$Latitude[i], LON = county_loc$Longitude[i], distance = distance)\n",
    "    #extract data for each station captured in the search radius\n",
    "    w_out <- list()\n",
    "    for(j in 1:length(stations)){\n",
    "      tryCatch({\n",
    "        weather <- suppressMessages(get_GSOD(years = c(2020, 2021), station = stations[j]))\n",
    "        weather <- weather[, c('YEARMODA', 'TEMP', 'RH', 'VISIB', 'MXSPD','GUST', 'PRCP')]\n",
    "        w_out[[j]] <- weather\n",
    "      }, error = function(e){\n",
    "        NULL \n",
    "      })\n",
    "    }\n",
    "    weather <- rbindlist(w_out)\n",
    "    #check if we got valid data for this county, continue with expanded radius if not\n",
    "    if(nrow(weather) > 0){\n",
    "      done <- 1\n",
    "    } else{\n",
    "      distance <- distance + 50\n",
    "    }\n",
    "  }\n",
    "  #aggregate the station data collected for county\n",
    "  weather <- weather[, .(TEMP = mean(TEMP, na.rm = TRUE), PRCP = mean(PRCP, na.rm = TRUE),\n",
    "                         RH = mean(RH, na.rm = TRUE), VISIB = mean(VISIB, na.rm = TRUE),\n",
    "                         MXSPD = mean(MXSPD, na.rm = TRUE), GUST = mean(GUST, na.rm = TRUE)), by = YEARMODA]\n",
    "  \n",
    "  weather$FIPS <- county_loc$FIPS[i]\n",
    "  out[[i]] <- weather\n",
    "  setTxtProgressBar(pb, i)\n",
    "}\n",
    "\n",
    "final <- rbindlist(out)"
   ]
  },
  {
   "cell_type": "code",
   "execution_count": 11,
   "metadata": {},
   "outputs": [
    {
     "data": {
      "text/html": [
       "<table>\n",
       "<caption>A data.table: 6 × 8</caption>\n",
       "<thead>\n",
       "\t<tr><th scope=col>YEARMODA</th><th scope=col>TEMP</th><th scope=col>PRCP</th><th scope=col>RH</th><th scope=col>VISIB</th><th scope=col>MXSPD</th><th scope=col>GUST</th><th scope=col>FIPS</th></tr>\n",
       "\t<tr><th scope=col>&lt;date&gt;</th><th scope=col>&lt;dbl&gt;</th><th scope=col>&lt;dbl&gt;</th><th scope=col>&lt;dbl&gt;</th><th scope=col>&lt;dbl&gt;</th><th scope=col>&lt;dbl&gt;</th><th scope=col>&lt;dbl&gt;</th><th scope=col>&lt;chr&gt;</th></tr>\n",
       "</thead>\n",
       "<tbody>\n",
       "\t<tr><td>2020-01-01</td><td> 5.48</td><td> 0.000</td><td>61.66666667</td><td>16.10000000</td><td>2.48</td><td>        NaN</td><td>01001</td></tr>\n",
       "\t<tr><td>2020-01-02</td><td>11.06</td><td> 0.250</td><td>79.60000000</td><td>14.13333333</td><td>6.10</td><td> 9.30000000</td><td>01001</td></tr>\n",
       "\t<tr><td>2020-01-03</td><td>18.56</td><td>21.325</td><td>90.90000000</td><td>13.13333333</td><td>6.50</td><td> 9.60000000</td><td>01001</td></tr>\n",
       "\t<tr><td>2020-01-04</td><td>14.00</td><td> 9.400</td><td>74.53333333</td><td>15.10000000</td><td>9.04</td><td>13.36666667</td><td>01001</td></tr>\n",
       "\t<tr><td>2020-01-05</td><td> 6.10</td><td> 0.060</td><td>58.33333333</td><td>15.96666667</td><td>4.52</td><td> 7.70000000</td><td>01001</td></tr>\n",
       "\t<tr><td>2020-01-06</td><td> 7.52</td><td> 0.000</td><td>75.36666667</td><td>16.10000000</td><td>3.52</td><td> 5.10000000</td><td>01001</td></tr>\n",
       "</tbody>\n",
       "</table>\n"
      ],
      "text/latex": [
       "A data.table: 6 × 8\n",
       "\\begin{tabular}{llllllll}\n",
       " YEARMODA & TEMP & PRCP & RH & VISIB & MXSPD & GUST & FIPS\\\\\n",
       " <date> & <dbl> & <dbl> & <dbl> & <dbl> & <dbl> & <dbl> & <chr>\\\\\n",
       "\\hline\n",
       "\t 2020-01-01 &  5.48 &  0.000 & 61.66666667 & 16.10000000 & 2.48 &         NaN & 01001\\\\\n",
       "\t 2020-01-02 & 11.06 &  0.250 & 79.60000000 & 14.13333333 & 6.10 &  9.30000000 & 01001\\\\\n",
       "\t 2020-01-03 & 18.56 & 21.325 & 90.90000000 & 13.13333333 & 6.50 &  9.60000000 & 01001\\\\\n",
       "\t 2020-01-04 & 14.00 &  9.400 & 74.53333333 & 15.10000000 & 9.04 & 13.36666667 & 01001\\\\\n",
       "\t 2020-01-05 &  6.10 &  0.060 & 58.33333333 & 15.96666667 & 4.52 &  7.70000000 & 01001\\\\\n",
       "\t 2020-01-06 &  7.52 &  0.000 & 75.36666667 & 16.10000000 & 3.52 &  5.10000000 & 01001\\\\\n",
       "\\end{tabular}\n"
      ],
      "text/markdown": [
       "\n",
       "A data.table: 6 × 8\n",
       "\n",
       "| YEARMODA &lt;date&gt; | TEMP &lt;dbl&gt; | PRCP &lt;dbl&gt; | RH &lt;dbl&gt; | VISIB &lt;dbl&gt; | MXSPD &lt;dbl&gt; | GUST &lt;dbl&gt; | FIPS &lt;chr&gt; |\n",
       "|---|---|---|---|---|---|---|---|\n",
       "| 2020-01-01 |  5.48 |  0.000 | 61.66666667 | 16.10000000 | 2.48 |         NaN | 01001 |\n",
       "| 2020-01-02 | 11.06 |  0.250 | 79.60000000 | 14.13333333 | 6.10 |  9.30000000 | 01001 |\n",
       "| 2020-01-03 | 18.56 | 21.325 | 90.90000000 | 13.13333333 | 6.50 |  9.60000000 | 01001 |\n",
       "| 2020-01-04 | 14.00 |  9.400 | 74.53333333 | 15.10000000 | 9.04 | 13.36666667 | 01001 |\n",
       "| 2020-01-05 |  6.10 |  0.060 | 58.33333333 | 15.96666667 | 4.52 |  7.70000000 | 01001 |\n",
       "| 2020-01-06 |  7.52 |  0.000 | 75.36666667 | 16.10000000 | 3.52 |  5.10000000 | 01001 |\n",
       "\n"
      ],
      "text/plain": [
       "  YEARMODA   TEMP  PRCP   RH          VISIB       MXSPD GUST        FIPS \n",
       "1 2020-01-01  5.48  0.000 61.66666667 16.10000000 2.48          NaN 01001\n",
       "2 2020-01-02 11.06  0.250 79.60000000 14.13333333 6.10   9.30000000 01001\n",
       "3 2020-01-03 18.56 21.325 90.90000000 13.13333333 6.50   9.60000000 01001\n",
       "4 2020-01-04 14.00  9.400 74.53333333 15.10000000 9.04  13.36666667 01001\n",
       "5 2020-01-05  6.10  0.060 58.33333333 15.96666667 4.52   7.70000000 01001\n",
       "6 2020-01-06  7.52  0.000 75.36666667 16.10000000 3.52   5.10000000 01001"
      ]
     },
     "metadata": {},
     "output_type": "display_data"
    }
   ],
   "source": [
    "head(final)"
   ]
  },
  {
   "cell_type": "markdown",
   "metadata": {},
   "source": [
    "## Acquiring COVID-19 Data"
   ]
  },
  {
   "cell_type": "markdown",
   "metadata": {},
   "source": [
    "The COVID-19 data ultimately comes from USA Facts as an authoritative source - but we will access it through an ongoing project that I am a part of in support of the Army's COVID-19 analytic strategy.  A paper describing this project is available here: https://doi.org/10.37266/ISER.2021v9i1.pp2-14.\n",
    "\n",
    "Data at the county/day level is stored in a github repository that is updated daily.  The below loop accesses the data for each county, sequentially, and merges it with the weather data from above."
   ]
  },
  {
   "cell_type": "code",
   "execution_count": 19,
   "metadata": {},
   "outputs": [
    {
     "name": "stdout",
     "output_type": "stream",
     "text": [
      "  |======================================================================| 100%"
     ]
    }
   ],
   "source": [
    "fips <- unique(final$FIPS)\n",
    "cols <- c('countyFIPS','pop','date','deaths','case_count','infect_prob','seven_day_percap',\n",
    "'r_t','doubling','per_delta','r_t_three','r_t_seven')\n",
    "pb <- txtProgressBar(max = length(fips), style = 3)\n",
    "out <- list()\n",
    "for(i in 1:length(fips)){\n",
    "  url <- sprintf('https://raw.githubusercontent.com/iankloo/bigmap/master/chart_data/%s.json', fips[i])\n",
    "  tryCatch({\n",
    "    js <- data.table(fromJSON(url))\n",
    "      if(FALSE %in% (cols %in% colnames(js))){\n",
    "        next\n",
    "      }\n",
    "      js <- js[, c('countyFIPS','pop','date','deaths','case_count','infect_prob','seven_day_percap',\n",
    "                   'r_t','doubling','per_delta','r_t_three','r_t_seven')]\n",
    "      js[, date := as.Date(date)]\n",
    "      sub <- final[FIPS == fips[i]]\n",
    "      out[[i]] <- merge(sub, js, by.x = c('YEARMODA','FIPS'), by.y = c('date','countyFIPS'))\n",
    "    }, error = function(e){\n",
    "      NULL \n",
    "    })\n",
    "  setTxtProgressBar(pb, i)\n",
    "}\n",
    "\n",
    "final_covid <- rbindlist(out)"
   ]
  },
  {
   "cell_type": "code",
   "execution_count": 28,
   "metadata": {},
   "outputs": [
    {
     "data": {
      "text/html": [
       "<table>\n",
       "<caption>A data.table: 6 × 18</caption>\n",
       "<thead>\n",
       "\t<tr><th scope=col>YEARMODA</th><th scope=col>FIPS</th><th scope=col>TEMP</th><th scope=col>PRCP</th><th scope=col>RH</th><th scope=col>VISIB</th><th scope=col>MXSPD</th><th scope=col>GUST</th><th scope=col>pop</th><th scope=col>deaths</th><th scope=col>case_count</th><th scope=col>infect_prob</th><th scope=col>seven_day_percap</th><th scope=col>r_t</th><th scope=col>doubling</th><th scope=col>per_delta</th><th scope=col>r_t_three</th><th scope=col>r_t_seven</th></tr>\n",
       "\t<tr><th scope=col>&lt;date&gt;</th><th scope=col>&lt;chr&gt;</th><th scope=col>&lt;dbl&gt;</th><th scope=col>&lt;dbl&gt;</th><th scope=col>&lt;dbl&gt;</th><th scope=col>&lt;dbl&gt;</th><th scope=col>&lt;dbl&gt;</th><th scope=col>&lt;dbl&gt;</th><th scope=col>&lt;int&gt;</th><th scope=col>&lt;int&gt;</th><th scope=col>&lt;int&gt;</th><th scope=col>&lt;dbl&gt;</th><th scope=col>&lt;dbl&gt;</th><th scope=col>&lt;dbl&gt;</th><th scope=col>&lt;int&gt;</th><th scope=col>&lt;dbl&gt;</th><th scope=col>&lt;dbl&gt;</th><th scope=col>&lt;dbl&gt;</th></tr>\n",
       "</thead>\n",
       "<tbody>\n",
       "\t<tr><td>2021-04-30</td><td>36027</td><td>15.85000000</td><td> 1.275</td><td>62.77500000</td><td>16.03333333</td><td>9.925000000</td><td>17.50000000</td><td>294218</td><td>441</td><td>28640</td><td>1.6688</td><td>126.7767</td><td>0.9917</td><td>111</td><td>0.0019</td><td>0.9655</td><td>0.8961</td></tr>\n",
       "\t<tr><td>2021-05-01</td><td>36027</td><td> 9.72500000</td><td> 0.150</td><td>46.55000000</td><td>16.10000000</td><td>7.725000000</td><td>15.76666667</td><td>294218</td><td>441</td><td>28698</td><td>1.6416</td><td>124.0577</td><td>1.1043</td><td>112</td><td>0.0020</td><td>1.0252</td><td>0.9114</td></tr>\n",
       "\t<tr><td>2021-05-02</td><td>36027</td><td>16.27500000</td><td> 0.000</td><td>41.80000000</td><td>16.10000000</td><td>6.575000000</td><td>11.83333333</td><td>294218</td><td>442</td><td>28744</td><td>1.6178</td><td>119.6392</td><td>0.8811</td><td>113</td><td>0.0016</td><td>0.9924</td><td>0.9045</td></tr>\n",
       "\t<tr><td>2021-05-03</td><td>36027</td><td>14.50000000</td><td> 0.000</td><td>73.17500000</td><td>15.83333333</td><td>3.325000000</td><td>        NaN</td><td>294218</td><td>442</td><td>28781</td><td>1.5193</td><td>115.5606</td><td>0.7157</td><td>114</td><td>0.0013</td><td>0.9004</td><td>0.8931</td></tr>\n",
       "\t<tr><td>2021-05-04</td><td>36027</td><td>14.20000000</td><td>12.200</td><td>85.95000000</td><td>12.63333333</td><td>3.850000000</td><td>        NaN</td><td>294218</td><td>442</td><td>28816</td><td>1.4377</td><td>114.2010</td><td>0.6948</td><td>115</td><td>0.0012</td><td>0.7639</td><td>0.8989</td></tr>\n",
       "\t<tr><td>2021-05-05</td><td>36027</td><td>13.53333333</td><td> 9.250</td><td>86.53333333</td><td>12.46666667</td><td>4.933333333</td><td> 8.25000000</td><td>294218</td><td>442</td><td>28850</td><td>1.3867</td><td>107.7432</td><td>0.7061</td><td>116</td><td>0.0012</td><td>0.7055</td><td>0.8676</td></tr>\n",
       "</tbody>\n",
       "</table>\n"
      ],
      "text/latex": [
       "A data.table: 6 × 18\n",
       "\\begin{tabular}{llllllllllllllllll}\n",
       " YEARMODA & FIPS & TEMP & PRCP & RH & VISIB & MXSPD & GUST & pop & deaths & case\\_count & infect\\_prob & seven\\_day\\_percap & r\\_t & doubling & per\\_delta & r\\_t\\_three & r\\_t\\_seven\\\\\n",
       " <date> & <chr> & <dbl> & <dbl> & <dbl> & <dbl> & <dbl> & <dbl> & <int> & <int> & <int> & <dbl> & <dbl> & <dbl> & <int> & <dbl> & <dbl> & <dbl>\\\\\n",
       "\\hline\n",
       "\t 2021-04-30 & 36027 & 15.85000000 &  1.275 & 62.77500000 & 16.03333333 & 9.925000000 & 17.50000000 & 294218 & 441 & 28640 & 1.6688 & 126.7767 & 0.9917 & 111 & 0.0019 & 0.9655 & 0.8961\\\\\n",
       "\t 2021-05-01 & 36027 &  9.72500000 &  0.150 & 46.55000000 & 16.10000000 & 7.725000000 & 15.76666667 & 294218 & 441 & 28698 & 1.6416 & 124.0577 & 1.1043 & 112 & 0.0020 & 1.0252 & 0.9114\\\\\n",
       "\t 2021-05-02 & 36027 & 16.27500000 &  0.000 & 41.80000000 & 16.10000000 & 6.575000000 & 11.83333333 & 294218 & 442 & 28744 & 1.6178 & 119.6392 & 0.8811 & 113 & 0.0016 & 0.9924 & 0.9045\\\\\n",
       "\t 2021-05-03 & 36027 & 14.50000000 &  0.000 & 73.17500000 & 15.83333333 & 3.325000000 &         NaN & 294218 & 442 & 28781 & 1.5193 & 115.5606 & 0.7157 & 114 & 0.0013 & 0.9004 & 0.8931\\\\\n",
       "\t 2021-05-04 & 36027 & 14.20000000 & 12.200 & 85.95000000 & 12.63333333 & 3.850000000 &         NaN & 294218 & 442 & 28816 & 1.4377 & 114.2010 & 0.6948 & 115 & 0.0012 & 0.7639 & 0.8989\\\\\n",
       "\t 2021-05-05 & 36027 & 13.53333333 &  9.250 & 86.53333333 & 12.46666667 & 4.933333333 &  8.25000000 & 294218 & 442 & 28850 & 1.3867 & 107.7432 & 0.7061 & 116 & 0.0012 & 0.7055 & 0.8676\\\\\n",
       "\\end{tabular}\n"
      ],
      "text/markdown": [
       "\n",
       "A data.table: 6 × 18\n",
       "\n",
       "| YEARMODA &lt;date&gt; | FIPS &lt;chr&gt; | TEMP &lt;dbl&gt; | PRCP &lt;dbl&gt; | RH &lt;dbl&gt; | VISIB &lt;dbl&gt; | MXSPD &lt;dbl&gt; | GUST &lt;dbl&gt; | pop &lt;int&gt; | deaths &lt;int&gt; | case_count &lt;int&gt; | infect_prob &lt;dbl&gt; | seven_day_percap &lt;dbl&gt; | r_t &lt;dbl&gt; | doubling &lt;int&gt; | per_delta &lt;dbl&gt; | r_t_three &lt;dbl&gt; | r_t_seven &lt;dbl&gt; |\n",
       "|---|---|---|---|---|---|---|---|---|---|---|---|---|---|---|---|---|---|\n",
       "| 2021-04-30 | 36027 | 15.85000000 |  1.275 | 62.77500000 | 16.03333333 | 9.925000000 | 17.50000000 | 294218 | 441 | 28640 | 1.6688 | 126.7767 | 0.9917 | 111 | 0.0019 | 0.9655 | 0.8961 |\n",
       "| 2021-05-01 | 36027 |  9.72500000 |  0.150 | 46.55000000 | 16.10000000 | 7.725000000 | 15.76666667 | 294218 | 441 | 28698 | 1.6416 | 124.0577 | 1.1043 | 112 | 0.0020 | 1.0252 | 0.9114 |\n",
       "| 2021-05-02 | 36027 | 16.27500000 |  0.000 | 41.80000000 | 16.10000000 | 6.575000000 | 11.83333333 | 294218 | 442 | 28744 | 1.6178 | 119.6392 | 0.8811 | 113 | 0.0016 | 0.9924 | 0.9045 |\n",
       "| 2021-05-03 | 36027 | 14.50000000 |  0.000 | 73.17500000 | 15.83333333 | 3.325000000 |         NaN | 294218 | 442 | 28781 | 1.5193 | 115.5606 | 0.7157 | 114 | 0.0013 | 0.9004 | 0.8931 |\n",
       "| 2021-05-04 | 36027 | 14.20000000 | 12.200 | 85.95000000 | 12.63333333 | 3.850000000 |         NaN | 294218 | 442 | 28816 | 1.4377 | 114.2010 | 0.6948 | 115 | 0.0012 | 0.7639 | 0.8989 |\n",
       "| 2021-05-05 | 36027 | 13.53333333 |  9.250 | 86.53333333 | 12.46666667 | 4.933333333 |  8.25000000 | 294218 | 442 | 28850 | 1.3867 | 107.7432 | 0.7061 | 116 | 0.0012 | 0.7055 | 0.8676 |\n",
       "\n"
      ],
      "text/plain": [
       "  YEARMODA   FIPS  TEMP        PRCP   RH          VISIB       MXSPD      \n",
       "1 2021-04-30 36027 15.85000000  1.275 62.77500000 16.03333333 9.925000000\n",
       "2 2021-05-01 36027  9.72500000  0.150 46.55000000 16.10000000 7.725000000\n",
       "3 2021-05-02 36027 16.27500000  0.000 41.80000000 16.10000000 6.575000000\n",
       "4 2021-05-03 36027 14.50000000  0.000 73.17500000 15.83333333 3.325000000\n",
       "5 2021-05-04 36027 14.20000000 12.200 85.95000000 12.63333333 3.850000000\n",
       "6 2021-05-05 36027 13.53333333  9.250 86.53333333 12.46666667 4.933333333\n",
       "  GUST        pop    deaths case_count infect_prob seven_day_percap r_t   \n",
       "1 17.50000000 294218 441    28640      1.6688      126.7767         0.9917\n",
       "2 15.76666667 294218 441    28698      1.6416      124.0577         1.1043\n",
       "3 11.83333333 294218 442    28744      1.6178      119.6392         0.8811\n",
       "4         NaN 294218 442    28781      1.5193      115.5606         0.7157\n",
       "5         NaN 294218 442    28816      1.4377      114.2010         0.6948\n",
       "6  8.25000000 294218 442    28850      1.3867      107.7432         0.7061\n",
       "  doubling per_delta r_t_three r_t_seven\n",
       "1 111      0.0019    0.9655    0.8961   \n",
       "2 112      0.0020    1.0252    0.9114   \n",
       "3 113      0.0016    0.9924    0.9045   \n",
       "4 114      0.0013    0.9004    0.8931   \n",
       "5 115      0.0012    0.7639    0.8989   \n",
       "6 116      0.0012    0.7055    0.8676   "
      ]
     },
     "metadata": {},
     "output_type": "display_data"
    }
   ],
   "source": [
    "tail(final_covid[FIPS == '36027'])"
   ]
  },
  {
   "cell_type": "markdown",
   "metadata": {},
   "source": [
    "## Acquiring Mobility Data"
   ]
  },
  {
   "cell_type": "markdown",
   "metadata": {},
   "source": [
    "The final data set we used comes from a Google project that is tracking mobility of people at the day/county level using cell phone GPS data.  Their results are stored in a github repo.  Below we access and merge that data with the weather + covid data from above."
   ]
  },
  {
   "cell_type": "code",
   "execution_count": 29,
   "metadata": {},
   "outputs": [],
   "source": [
    "mob <- fread('https://raw.githubusercontent.com/descarteslabs/DL-COVID-19/master/DL-us-samples.csv', colClasses = c('fips' = 'character'))\n",
    "mob <- mob[admin_level == 2]\n",
    "mob$admin_level <- mob$admin1 <- mob$admin2 <- mob$country_code <- NULL\n",
    "\n",
    "mob_melt <- melt(mob, id.vars = 'fips', variable.name = 'date', value.name = 'm50_index')\n",
    "mob_melt[, date := as.Date(date)]\n",
    "\n",
    "final_covid_mob <- merge(final_covid, mob_melt, by.x = c('YEARMODA','FIPS'), by.y = c('date','fips'), all.x = TRUE)"
   ]
  },
  {
   "cell_type": "markdown",
   "metadata": {},
   "source": [
    "## Final Data Set"
   ]
  },
  {
   "cell_type": "markdown",
   "metadata": {},
   "source": [
    "After reading data from these three sources and merging everything together, we are left with a final dataset that looks like this:"
   ]
  },
  {
   "cell_type": "code",
   "execution_count": 43,
   "metadata": {},
   "outputs": [
    {
     "data": {
      "text/html": [
       "<table>\n",
       "<caption>A data.table: 6 × 19</caption>\n",
       "<thead>\n",
       "\t<tr><th scope=col>YEARMODA</th><th scope=col>FIPS</th><th scope=col>TEMP</th><th scope=col>PRCP</th><th scope=col>RH</th><th scope=col>VISIB</th><th scope=col>MXSPD</th><th scope=col>GUST</th><th scope=col>pop</th><th scope=col>deaths</th><th scope=col>case_count</th><th scope=col>infect_prob</th><th scope=col>seven_day_percap</th><th scope=col>r_t</th><th scope=col>doubling</th><th scope=col>per_delta</th><th scope=col>r_t_three</th><th scope=col>r_t_seven</th><th scope=col>m50_index</th></tr>\n",
       "\t<tr><th scope=col>&lt;date&gt;</th><th scope=col>&lt;chr&gt;</th><th scope=col>&lt;dbl&gt;</th><th scope=col>&lt;dbl&gt;</th><th scope=col>&lt;dbl&gt;</th><th scope=col>&lt;dbl&gt;</th><th scope=col>&lt;dbl&gt;</th><th scope=col>&lt;dbl&gt;</th><th scope=col>&lt;int&gt;</th><th scope=col>&lt;int&gt;</th><th scope=col>&lt;int&gt;</th><th scope=col>&lt;dbl&gt;</th><th scope=col>&lt;dbl&gt;</th><th scope=col>&lt;dbl&gt;</th><th scope=col>&lt;int&gt;</th><th scope=col>&lt;dbl&gt;</th><th scope=col>&lt;dbl&gt;</th><th scope=col>&lt;dbl&gt;</th><th scope=col>&lt;int&gt;</th></tr>\n",
       "</thead>\n",
       "<tbody>\n",
       "\t<tr><td>2020-09-01</td><td>56035</td><td> 8.3</td><td>0.000000000</td><td>56.50</td><td>16.1</td><td>11.850000000</td><td>15.45</td><td> 9831</td><td>1</td><td> 48</td><td>0.0000</td><td> 0.0000</td><td>0.0000</td><td>40</td><td>0.0000</td><td>0.0000</td><td>0.0000</td><td> 272</td></tr>\n",
       "\t<tr><td>2020-09-01</td><td>56037</td><td>10.4</td><td>0.000000000</td><td>47.80</td><td>16.1</td><td> 9.800000000</td><td>18.00</td><td>42343</td><td>2</td><td>302</td><td>0.2834</td><td>16.5317</td><td>0.0000</td><td>50</td><td>0.0000</td><td>1.6580</td><td>0.8069</td><td>1221</td></tr>\n",
       "\t<tr><td>2020-09-01</td><td>56039</td><td> 6.9</td><td>1.266666667</td><td>75.20</td><td>14.9</td><td> 6.666666667</td><td>12.10</td><td>23464</td><td>1</td><td>430</td><td>0.8950</td><td>76.7133</td><td>0.0000</td><td>44</td><td>0.0000</td><td>0.5017</td><td>0.8049</td><td> 603</td></tr>\n",
       "\t<tr><td>2020-09-01</td><td>56041</td><td> 7.7</td><td>0.000000000</td><td>56.10</td><td>16.1</td><td>11.300000000</td><td>16.50</td><td>20226</td><td>2</td><td>301</td><td>0.8899</td><td>88.9944</td><td>1.5802</td><td>71</td><td>0.0101</td><td>1.7840</td><td>2.6003</td><td> 633</td></tr>\n",
       "\t<tr><td>2020-09-01</td><td>56043</td><td>14.0</td><td>0.000000000</td><td>43.00</td><td>16.1</td><td> 4.600000000</td><td>  NaN</td><td> 7805</td><td>6</td><td>108</td><td>0.0000</td><td> 0.0000</td><td>0.0000</td><td>29</td><td>0.0000</td><td>0.0000</td><td>0.0000</td><td>  NA</td></tr>\n",
       "\t<tr><td>2020-09-01</td><td>56045</td><td>12.6</td><td>0.000000000</td><td>44.05</td><td>16.1</td><td> 8.250000000</td><td>14.45</td><td> 6927</td><td>0</td><td> 19</td><td>1.0105</td><td>86.6176</td><td>0.0000</td><td>15</td><td>0.0000</td><td>0.3436</td><td>1.3069</td><td>  NA</td></tr>\n",
       "</tbody>\n",
       "</table>\n"
      ],
      "text/latex": [
       "A data.table: 6 × 19\n",
       "\\begin{tabular}{lllllllllllllllllll}\n",
       " YEARMODA & FIPS & TEMP & PRCP & RH & VISIB & MXSPD & GUST & pop & deaths & case\\_count & infect\\_prob & seven\\_day\\_percap & r\\_t & doubling & per\\_delta & r\\_t\\_three & r\\_t\\_seven & m50\\_index\\\\\n",
       " <date> & <chr> & <dbl> & <dbl> & <dbl> & <dbl> & <dbl> & <dbl> & <int> & <int> & <int> & <dbl> & <dbl> & <dbl> & <int> & <dbl> & <dbl> & <dbl> & <int>\\\\\n",
       "\\hline\n",
       "\t 2020-09-01 & 56035 &  8.3 & 0.000000000 & 56.50 & 16.1 & 11.850000000 & 15.45 &  9831 & 1 &  48 & 0.0000 &  0.0000 & 0.0000 & 40 & 0.0000 & 0.0000 & 0.0000 &  272\\\\\n",
       "\t 2020-09-01 & 56037 & 10.4 & 0.000000000 & 47.80 & 16.1 &  9.800000000 & 18.00 & 42343 & 2 & 302 & 0.2834 & 16.5317 & 0.0000 & 50 & 0.0000 & 1.6580 & 0.8069 & 1221\\\\\n",
       "\t 2020-09-01 & 56039 &  6.9 & 1.266666667 & 75.20 & 14.9 &  6.666666667 & 12.10 & 23464 & 1 & 430 & 0.8950 & 76.7133 & 0.0000 & 44 & 0.0000 & 0.5017 & 0.8049 &  603\\\\\n",
       "\t 2020-09-01 & 56041 &  7.7 & 0.000000000 & 56.10 & 16.1 & 11.300000000 & 16.50 & 20226 & 2 & 301 & 0.8899 & 88.9944 & 1.5802 & 71 & 0.0101 & 1.7840 & 2.6003 &  633\\\\\n",
       "\t 2020-09-01 & 56043 & 14.0 & 0.000000000 & 43.00 & 16.1 &  4.600000000 &   NaN &  7805 & 6 & 108 & 0.0000 &  0.0000 & 0.0000 & 29 & 0.0000 & 0.0000 & 0.0000 &   NA\\\\\n",
       "\t 2020-09-01 & 56045 & 12.6 & 0.000000000 & 44.05 & 16.1 &  8.250000000 & 14.45 &  6927 & 0 &  19 & 1.0105 & 86.6176 & 0.0000 & 15 & 0.0000 & 0.3436 & 1.3069 &   NA\\\\\n",
       "\\end{tabular}\n"
      ],
      "text/markdown": [
       "\n",
       "A data.table: 6 × 19\n",
       "\n",
       "| YEARMODA &lt;date&gt; | FIPS &lt;chr&gt; | TEMP &lt;dbl&gt; | PRCP &lt;dbl&gt; | RH &lt;dbl&gt; | VISIB &lt;dbl&gt; | MXSPD &lt;dbl&gt; | GUST &lt;dbl&gt; | pop &lt;int&gt; | deaths &lt;int&gt; | case_count &lt;int&gt; | infect_prob &lt;dbl&gt; | seven_day_percap &lt;dbl&gt; | r_t &lt;dbl&gt; | doubling &lt;int&gt; | per_delta &lt;dbl&gt; | r_t_three &lt;dbl&gt; | r_t_seven &lt;dbl&gt; | m50_index &lt;int&gt; |\n",
       "|---|---|---|---|---|---|---|---|---|---|---|---|---|---|---|---|---|---|---|\n",
       "| 2020-09-01 | 56035 |  8.3 | 0.000000000 | 56.50 | 16.1 | 11.850000000 | 15.45 |  9831 | 1 |  48 | 0.0000 |  0.0000 | 0.0000 | 40 | 0.0000 | 0.0000 | 0.0000 |  272 |\n",
       "| 2020-09-01 | 56037 | 10.4 | 0.000000000 | 47.80 | 16.1 |  9.800000000 | 18.00 | 42343 | 2 | 302 | 0.2834 | 16.5317 | 0.0000 | 50 | 0.0000 | 1.6580 | 0.8069 | 1221 |\n",
       "| 2020-09-01 | 56039 |  6.9 | 1.266666667 | 75.20 | 14.9 |  6.666666667 | 12.10 | 23464 | 1 | 430 | 0.8950 | 76.7133 | 0.0000 | 44 | 0.0000 | 0.5017 | 0.8049 |  603 |\n",
       "| 2020-09-01 | 56041 |  7.7 | 0.000000000 | 56.10 | 16.1 | 11.300000000 | 16.50 | 20226 | 2 | 301 | 0.8899 | 88.9944 | 1.5802 | 71 | 0.0101 | 1.7840 | 2.6003 |  633 |\n",
       "| 2020-09-01 | 56043 | 14.0 | 0.000000000 | 43.00 | 16.1 |  4.600000000 |   NaN |  7805 | 6 | 108 | 0.0000 |  0.0000 | 0.0000 | 29 | 0.0000 | 0.0000 | 0.0000 |   NA |\n",
       "| 2020-09-01 | 56045 | 12.6 | 0.000000000 | 44.05 | 16.1 |  8.250000000 | 14.45 |  6927 | 0 |  19 | 1.0105 | 86.6176 | 0.0000 | 15 | 0.0000 | 0.3436 | 1.3069 |   NA |\n",
       "\n"
      ],
      "text/plain": [
       "  YEARMODA   FIPS  TEMP PRCP        RH    VISIB MXSPD        GUST  pop   deaths\n",
       "1 2020-09-01 56035  8.3 0.000000000 56.50 16.1  11.850000000 15.45  9831 1     \n",
       "2 2020-09-01 56037 10.4 0.000000000 47.80 16.1   9.800000000 18.00 42343 2     \n",
       "3 2020-09-01 56039  6.9 1.266666667 75.20 14.9   6.666666667 12.10 23464 1     \n",
       "4 2020-09-01 56041  7.7 0.000000000 56.10 16.1  11.300000000 16.50 20226 2     \n",
       "5 2020-09-01 56043 14.0 0.000000000 43.00 16.1   4.600000000   NaN  7805 6     \n",
       "6 2020-09-01 56045 12.6 0.000000000 44.05 16.1   8.250000000 14.45  6927 0     \n",
       "  case_count infect_prob seven_day_percap r_t    doubling per_delta r_t_three\n",
       "1  48        0.0000       0.0000          0.0000 40       0.0000    0.0000   \n",
       "2 302        0.2834      16.5317          0.0000 50       0.0000    1.6580   \n",
       "3 430        0.8950      76.7133          0.0000 44       0.0000    0.5017   \n",
       "4 301        0.8899      88.9944          1.5802 71       0.0101    1.7840   \n",
       "5 108        0.0000       0.0000          0.0000 29       0.0000    0.0000   \n",
       "6  19        1.0105      86.6176          0.0000 15       0.0000    0.3436   \n",
       "  r_t_seven m50_index\n",
       "1 0.0000     272     \n",
       "2 0.8069    1221     \n",
       "3 0.8049     603     \n",
       "4 2.6003     633     \n",
       "5 0.0000      NA     \n",
       "6 1.3069      NA     "
      ]
     },
     "metadata": {},
     "output_type": "display_data"
    }
   ],
   "source": [
    "tail(final_covid_mob[YEARMODA == '2020-09-01'])"
   ]
  },
  {
   "cell_type": "markdown",
   "metadata": {},
   "source": [
    "The data is still fairly messy and contains more than we will use in our final analysis, but in the interest of using Pyspark for as much of this project as possible, we will stop using R here.  The file created here is the input for `final_project_code.ipynb` - please see that notebook to see our data cleaning, exploratory analysis, modeling, and evaluation processes."
   ]
  },
  {
   "cell_type": "code",
   "execution_count": 44,
   "metadata": {},
   "outputs": [],
   "source": [
    "fwrite(final_covid_mob, 'cov_weather_mobility.csv')"
   ]
  }
 ],
 "metadata": {
  "kernelspec": {
   "display_name": "R",
   "language": "R",
   "name": "ir"
  },
  "language_info": {
   "codemirror_mode": "r",
   "file_extension": ".r",
   "mimetype": "text/x-r-source",
   "name": "R",
   "pygments_lexer": "r",
   "version": "3.6.3"
  }
 },
 "nbformat": 4,
 "nbformat_minor": 4
}
